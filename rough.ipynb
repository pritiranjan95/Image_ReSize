{
 "cells": [
  {
   "cell_type": "code",
   "execution_count": 11,
   "id": "c624c104",
   "metadata": {},
   "outputs": [
    {
     "name": "stdout",
     "output_type": "stream",
     "text": [
      "(800, 450)\n",
      "None\n"
     ]
    }
   ],
   "source": [
    "from PIL import Image\n",
    "a=Image.open(\"d41586-020-01430-5_17977554.jpg\")\n",
    "s=a.size\n",
    "print(s)\n",
    "size=(40,40)\n",
    "r=a.resize(size)\n",
    "print(r.show())"
   ]
  },
  {
   "cell_type": "code",
   "execution_count": 45,
   "id": "d985a8a3",
   "metadata": {},
   "outputs": [],
   "source": [
    "from PIL import Image\n",
    "def image(a):\n",
    "    return Image.open(a)\n",
    "    \n",
    "    "
   ]
  },
  {
   "cell_type": "code",
   "execution_count": 46,
   "id": "cf12c2cf",
   "metadata": {},
   "outputs": [],
   "source": [
    "def resizing(a,b):\n",
    "    im=image(\"d41586-020-01430-5_17977554.jpg\")\n",
    "    size=(a,b)\n",
    "    r=im.resize(size)\n",
    "    print(r.show())"
   ]
  },
  {
   "cell_type": "code",
   "execution_count": 47,
   "id": "01906619",
   "metadata": {},
   "outputs": [
    {
     "name": "stdout",
     "output_type": "stream",
     "text": [
      "None\n",
      "None\n",
      "None\n"
     ]
    }
   ],
   "source": [
    "l=[[300,300],[400,400],[600,600]]\n",
    "for i in l:\n",
    "    resizing(i[0],i[1])"
   ]
  },
  {
   "cell_type": "code",
   "execution_count": null,
   "id": "634c4baf",
   "metadata": {},
   "outputs": [],
   "source": [
    "from PIL import Image\n",
    "class  Image_operation:\n",
    "    def __init__(self, image):\n",
    "        image=self.image\n",
    "        \n",
    "    def open(self):\n",
    "        im=Image.open(image)\n",
    "        return im\n",
    "    "
   ]
  },
  {
   "cell_type": "code",
   "execution_count": 49,
   "id": "449b4f32",
   "metadata": {},
   "outputs": [],
   "source": [
    "def resizing(image,dim):\n",
    "    im=Image.open(image)\n",
    "    r=im.resize(dim)\n",
    "    print(r.show())\n",
    "    "
   ]
  },
  {
   "cell_type": "code",
   "execution_count": 50,
   "id": "a8e8def5",
   "metadata": {},
   "outputs": [
    {
     "name": "stdout",
     "output_type": "stream",
     "text": [
      "None\n"
     ]
    }
   ],
   "source": []
  },
  {
   "cell_type": "code",
   "execution_count": null,
   "id": "b2d44c91",
   "metadata": {},
   "outputs": [],
   "source": []
  }
 ],
 "metadata": {
  "kernelspec": {
   "display_name": "Python 3 (ipykernel)",
   "language": "python",
   "name": "python3"
  },
  "language_info": {
   "codemirror_mode": {
    "name": "ipython",
    "version": 3
   },
   "file_extension": ".py",
   "mimetype": "text/x-python",
   "name": "python",
   "nbconvert_exporter": "python",
   "pygments_lexer": "ipython3",
   "version": "3.10.1"
  }
 },
 "nbformat": 4,
 "nbformat_minor": 5
}
