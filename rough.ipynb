{
 "cells": [
  {
   "cell_type": "code",
   "execution_count": 11,
   "id": "c624c104",
   "metadata": {},
   "outputs": [
    {
     "name": "stdout",
     "output_type": "stream",
     "text": [
      "(800, 450)\n",
      "None\n"
     ]
    }
   ],
   "source": [
    "from PIL import Image\n",
    "a=Image.open(\"d41586-020-01430-5_17977554.jpg\")\n",
    "s=a.size\n",
    "print(s)\n",
    "size=(40,40)\n",
    "r=a.resize(size)\n",
    "print(r.show())"
   ]
  },
  {
   "cell_type": "code",
   "execution_count": 45,
   "id": "d985a8a3",
   "metadata": {},
   "outputs": [],
   "source": [
    "from PIL import Image\n",
    "def image(a):\n",
    "    return Image.open(a)\n",
    "    \n",
    "    "
   ]
  },
  {
   "cell_type": "code",
   "execution_count": 46,
   "id": "cf12c2cf",
   "metadata": {},
   "outputs": [],
   "source": [
    "def resizing(a,b):\n",
    "    im=image(\"d41586-020-01430-5_17977554.jpg\")\n",
    "    size=(a,b)\n",
    "    r=im.resize(size)\n",
    "    print(r.show())"
   ]
  },
  {
   "cell_type": "code",
   "execution_count": 47,
   "id": "01906619",
   "metadata": {},
   "outputs": [
    {
     "name": "stdout",
     "output_type": "stream",
     "text": [
      "None\n",
      "None\n",
      "None\n"
     ]
    }
   ],
   "source": [
    "l=[[300,300],[400,400],[600,600]]\n",
    "for i in l:\n",
    "    resizing(i[0],i[1])"
   ]
  },
  {
   "cell_type": "code",
   "execution_count": null,
   "id": "634c4baf",
   "metadata": {},
   "outputs": [],
   "source": [
    "from PIL import Image\n",
    "class  Image_operation:\n",
    "    def __init__(self, image):\n",
    "        image=self.image\n",
    "        \n",
    "    def open(self):\n",
    "        im=Image.open(image)\n",
    "        return im\n",
    "    "
   ]
  },
  {
   "cell_type": "code",
   "execution_count": 49,
   "id": "449b4f32",
   "metadata": {},
   "outputs": [],
   "source": [
    "def resizing(image,dim):\n",
    "    im=Image.open(image)\n",
    "    r=im.resize(dim)\n",
    "    print(r.show())\n",
    "    "
   ]
  },
  {
   "cell_type": "code",
   "execution_count": 50,
   "id": "a8e8def5",
   "metadata": {},
   "outputs": [
    {
     "name": "stdout",
     "output_type": "stream",
     "text": [
      "None\n"
     ]
    }
   ],
   "source": []
  },
  {
   "cell_type": "code",
   "execution_count": 1,
   "id": "b2d44c91",
   "metadata": {},
   "outputs": [
    {
     "ename": "TypeError",
     "evalue": "tuple expected at most 1 argument, got 2",
     "output_type": "error",
     "traceback": [
      "\u001b[1;31m---------------------------------------------------------------------------\u001b[0m",
      "\u001b[1;31mTypeError\u001b[0m                                 Traceback (most recent call last)",
      "Cell \u001b[1;32mIn[1], line 1\u001b[0m\n\u001b[1;32m----> 1\u001b[0m \u001b[38;5;28;43mtuple\u001b[39;49m\u001b[43m(\u001b[49m\u001b[38;5;241;43m40\u001b[39;49m\u001b[43m,\u001b[49m\u001b[38;5;241;43m40\u001b[39;49m\u001b[43m)\u001b[49m\n",
      "\u001b[1;31mTypeError\u001b[0m: tuple expected at most 1 argument, got 2"
     ]
    }
   ],
   "source": [
    "tuple(40,40)"
   ]
  },
  {
   "cell_type": "code",
   "execution_count": 3,
   "id": "3def1ef1",
   "metadata": {},
   "outputs": [
    {
     "data": {
      "text/plain": [
       "('(', '4', '0', ',', '4', '0', ')')"
      ]
     },
     "execution_count": 3,
     "metadata": {},
     "output_type": "execute_result"
    }
   ],
   "source": [
    "a=\"(40,40)\"tuple(a)"
   ]
  },
  {
   "cell_type": "code",
   "execution_count": 20,
   "id": "3cf3fd76",
   "metadata": {},
   "outputs": [
    {
     "name": "stdout",
     "output_type": "stream",
     "text": [
      "33 44\n"
     ]
    },
    {
     "data": {
      "text/plain": [
       "[33, 44]"
      ]
     },
     "execution_count": 20,
     "metadata": {},
     "output_type": "execute_result"
    }
   ],
   "source": [
    "a=input()\n",
    "a=a.split()\n",
    "b=[]\n",
    "for i in a:\n",
    "    b.append(int(i))\n",
    "\n",
    "    "
   ]
  },
  {
   "cell_type": "code",
   "execution_count": 15,
   "id": "51a392d2",
   "metadata": {},
   "outputs": [],
   "source": [
    "#if my input is 30, 44, 33, 22, 44, 33. The input no shuld be even\n",
    "# Then the out put should be [(30,44),(33,22),(44,33)]\n"
   ]
  },
  {
   "cell_type": "code",
   "execution_count": 16,
   "id": "e104cba5",
   "metadata": {},
   "outputs": [
    {
     "data": {
      "text/plain": [
       "(30, 44)"
      ]
     },
     "execution_count": 16,
     "metadata": {},
     "output_type": "execute_result"
    }
   ],
   "source": [
    "a=[30, 44]\n",
    "a=tuple(a)\n",
    "a\n",
    "    "
   ]
  },
  {
   "cell_type": "code",
   "execution_count": 22,
   "id": "70ced4d5",
   "metadata": {},
   "outputs": [
    {
     "name": "stdout",
     "output_type": "stream",
     "text": [
      "30 44\n",
      "33 22\n",
      "44 33\n"
     ]
    }
   ],
   "source": [
    "# a=\"30 44 33 22 44 33\"\n",
    "# a=a.split() \n",
    "a=['30', '44', '33', '22', '44', '33']\n",
    "b=[]\n",
    "for i in range(0,len(a),2):\n",
    "    print(a[i],a[i+1])\n",
    "#     b.append(list(a[i] a[i+1]))\n",
    "    "
   ]
  },
  {
   "cell_type": "code",
   "execution_count": 8,
   "id": "9038907f",
   "metadata": {},
   "outputs": [
    {
     "data": {
      "text/plain": [
       "[23, 34, 33, 55]"
      ]
     },
     "execution_count": 8,
     "metadata": {},
     "output_type": "execute_result"
    }
   ],
   "source": [
    "a={\"name\":\"bapi\",\"age\": [23,34,33,55]}\n",
    "a[\"age\"]"
   ]
  },
  {
   "cell_type": "code",
   "execution_count": 24,
   "id": "cfe30f44",
   "metadata": {},
   "outputs": [
    {
     "name": "stdout",
     "output_type": "stream",
     "text": [
      "{\"data\": [33]}\n",
      "<class 'str'>\n"
     ]
    }
   ],
   "source": [
    "import json\n",
    "# a=\"[{\\\"_id\\\": {\\\"$oid\\\": \\\"638de528b02aabb14176dc7a\\\"}, \\\"dimension\\\": [[450, 300], [500, 500], [400, 400], [567, 567]]}]\"\n",
    "\n",
    "# a=json.loads(a)\n",
    "# print(type(a))\n",
    "\n",
    "b={'data':[33]}\n",
    "b=json.dumps(b)\n",
    "print(b)\n",
    "print(type(b))\n",
    "\n"
   ]
  },
  {
   "cell_type": "code",
   "execution_count": null,
   "id": "ec0b7ba8",
   "metadata": {},
   "outputs": [],
   "source": []
  }
 ],
 "metadata": {
  "kernelspec": {
   "display_name": "Python 3 (ipykernel)",
   "language": "python",
   "name": "python3"
  },
  "language_info": {
   "codemirror_mode": {
    "name": "ipython",
    "version": 3
   },
   "file_extension": ".py",
   "mimetype": "text/x-python",
   "name": "python",
   "nbconvert_exporter": "python",
   "pygments_lexer": "ipython3",
   "version": "3.10.1"
  }
 },
 "nbformat": 4,
 "nbformat_minor": 5
}
